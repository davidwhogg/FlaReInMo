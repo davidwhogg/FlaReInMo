{
 "cells": [
  {
   "cell_type": "markdown",
   "id": "87f0e41a",
   "metadata": {},
   "source": [
    "# Make fake flat, LFC, and science exposure"
   ]
  },
  {
   "cell_type": "code",
   "execution_count": null,
   "id": "1cebef2f",
   "metadata": {},
   "outputs": [],
   "source": [
    "import numpy as np\n",
    "import pylab as plt\n",
    "%matplotlib inline"
   ]
  },
  {
   "cell_type": "code",
   "execution_count": null,
   "id": "e14648a9",
   "metadata": {},
   "outputs": [],
   "source": [
    "# Set defaults.\n",
    "specvar = 6. # pixels ** 2\n",
    "rng = np.random.default_rng(17)\n",
    "TWOPI = 2. * np.pi\n",
    "ONEOVERTWOPI = 1. / TWOPI"
   ]
  },
  {
   "cell_type": "code",
   "execution_count": null,
   "id": "b8ea6cc7",
   "metadata": {},
   "outputs": [],
   "source": [
    "# Define useful functions.\n",
    "def gaussian_2d(xxs, yys, mean, var):\n",
    "    \"\"\"\n",
    "    `xxs`   should be shape `(nx, ny)`.\n",
    "    `yys`   should be shape `(nx, ny)`.\n",
    "    `mean`  should be shape `(2, )`.\n",
    "    `var`   should be a scalar.\n",
    "    \"\"\"\n",
    "    return ONEOVERTWOPI / var \\\n",
    "           * np.exp(-0.5 / var * ((xxs - mean[0]) ** 2 + (yys - mean[1]) ** 2))\n",
    "def gaussian_1d(xxs, mean, var):\n",
    "    \"\"\"\n",
    "    `xxs`   should be shape `(nx, )`.\n",
    "    `mean`  should be a scalar.\n",
    "    `var`   should be a scalar.\n",
    "    \"\"\"\n",
    "    return np.sqrt(ONEOVERTWOPI / var) \\\n",
    "           * np.exp(-0.5 / var * (xxs - mean) ** 2)"
   ]
  },
  {
   "cell_type": "code",
   "execution_count": null,
   "id": "e2595cb6",
   "metadata": {},
   "outputs": [],
   "source": [
    "# Make true 1D spectrum.\n",
    "linexs = 2. + np.array([6.1, 20.2, 37.0])\n",
    "depths = 5. * np.array([0.2, 0.7, 0.1])"
   ]
  },
  {
   "cell_type": "code",
   "execution_count": null,
   "id": "cf4a1e1d",
   "metadata": {},
   "outputs": [],
   "source": [
    "xfine = np.arange(0., 45., 0.01)\n",
    "yfine = np.ones_like(xfine)\n",
    "for x, d in zip(linexs, depths):\n",
    "    yfine -= d * gaussian_1d(xfine, x, specvar)"
   ]
  },
  {
   "cell_type": "code",
   "execution_count": null,
   "id": "a43cefe0",
   "metadata": {},
   "outputs": [],
   "source": [
    "plt.title(\"true 1D spectrum\")\n",
    "plt.plot(xfine, yfine, 'k-')"
   ]
  },
  {
   "cell_type": "code",
   "execution_count": null,
   "id": "0d0e0ef6",
   "metadata": {},
   "outputs": [],
   "source": [
    "# Define trace and the non-orthogonality of the wavelength solution.\n",
    "def trace(xs):\n",
    "    return 12.83 - 0.003 * (xs - 50.3) ** 2\n",
    "def dxdy(xs):\n",
    "    return - 0.006 * (xs - 50.3)"
   ]
  },
  {
   "cell_type": "code",
   "execution_count": null,
   "id": "e8f737dd",
   "metadata": {},
   "outputs": [],
   "source": [
    "# Make pixel grids for a tiny image section\n",
    "xs = np.arange(43).astype(float)\n",
    "ys = np.arange(21).astype(float)\n",
    "xxs, yys = np.meshgrid(xs, ys)"
   ]
  },
  {
   "cell_type": "code",
   "execution_count": null,
   "id": "9484facf",
   "metadata": {},
   "outputs": [],
   "source": [
    "plt.title(\"just checking\")\n",
    "plt.plot(xs, trace(xs), \"k-\")\n",
    "plt.axis(\"equal\")\n",
    "dy = 5.\n",
    "for x in np.arange(0, len(xs), 2).astype(float):\n",
    "    y0 = trace(x)\n",
    "    plt.plot([x - dxdy(x) * dy, x + dxdy(x) * dy], [y0 - dy, y0 + dy], \"k-\")"
   ]
  },
  {
   "cell_type": "code",
   "execution_count": null,
   "id": "fae16087",
   "metadata": {},
   "outputs": [],
   "source": [
    "# Make true flat by an agonizing process.\n",
    "xspots = np.arange(-4., len(xs) + 4., 0.33)\n",
    "yspots = np.arange(-5., 5., 0.33)\n",
    "var = 1.0\n",
    "trueflat = np.zeros_like(xxs).astype(float)\n",
    "for x in xspots:\n",
    "    for y in yspots:\n",
    "        trueflat += gaussian_2d(xxs, yys, [x + dxdy(x) * y, trace(x) + y], var)"
   ]
  },
  {
   "cell_type": "code",
   "execution_count": null,
   "id": "e5f67632",
   "metadata": {},
   "outputs": [],
   "source": [
    "# Make true LFC by a similarly agonizing process.\n",
    "lfcspots = np.arange(-4., len(xs) + 4., 4 * np.pi)\n",
    "truelfc = np.zeros_like(xxs).astype(float)\n",
    "for x in lfcspots:\n",
    "    for y in yspots:\n",
    "        truelfc += gaussian_2d(xxs, yys, [x + dxdy(x) * y, trace(x) + y], specvar)"
   ]
  },
  {
   "cell_type": "code",
   "execution_count": null,
   "id": "66da9d16",
   "metadata": {},
   "outputs": [],
   "source": [
    "# Make true science image by multiplying the flat.\n",
    "foo = np.ones_like(xxs)\n",
    "for x, d in zip(linexs, depths):\n",
    "    foo -= d * gaussian_1d(xxs - dxdy(xxs) * yys, x, specvar)\n",
    "truesci = trueflat * foo"
   ]
  },
  {
   "cell_type": "code",
   "execution_count": null,
   "id": "fc700394",
   "metadata": {},
   "outputs": [],
   "source": [
    "# Make observed images by noisifying the true images.\n",
    "flat = trueflat + 0.05 * np.sqrt(trueflat) * rng.normal(size=xxs.shape)\n",
    "lfc  = truelfc  + 0.01 * np.sqrt(truelfc)  * rng.normal(size=xxs.shape)\n",
    "sci  = truesci  + 0.05 * np.sqrt(truesci)  * rng.normal(size=xxs.shape)"
   ]
  },
  {
   "cell_type": "code",
   "execution_count": null,
   "id": "37db710a",
   "metadata": {},
   "outputs": [],
   "source": [
    "imshowkwargs = {\"origin\": \"lower\", \"interpolation\": \"nearest\"}\n",
    "plt.title(\"flat\")\n",
    "plt.imshow(flat, **imshowkwargs)\n",
    "plt.plot(lfcspots, trace(lfcspots), \"ro\")\n",
    "plt.xlim(-0.5, len(xs)-0.5)"
   ]
  },
  {
   "cell_type": "code",
   "execution_count": null,
   "id": "15186b8c",
   "metadata": {},
   "outputs": [],
   "source": [
    "plt.title(\"LFC\")\n",
    "plt.imshow(lfc, **imshowkwargs)\n",
    "plt.plot(lfcspots, trace(lfcspots), \"ro\")\n",
    "plt.xlim(-0.5, len(xs)-0.5)"
   ]
  },
  {
   "cell_type": "code",
   "execution_count": null,
   "id": "dea0c2a1",
   "metadata": {},
   "outputs": [],
   "source": [
    "plt.title(\"science\")\n",
    "plt.imshow(sci, **imshowkwargs)\n",
    "plt.plot(lfcspots, trace(lfcspots), \"ro\")\n",
    "plt.xlim(-0.5, len(xs)-0.5)"
   ]
  },
  {
   "cell_type": "code",
   "execution_count": null,
   "id": "e62d3a3b",
   "metadata": {},
   "outputs": [],
   "source": []
  }
 ],
 "metadata": {
  "kernelspec": {
   "display_name": "Python 3 (ipykernel)",
   "language": "python",
   "name": "python3"
  },
  "language_info": {
   "codemirror_mode": {
    "name": "ipython",
    "version": 3
   },
   "file_extension": ".py",
   "mimetype": "text/x-python",
   "name": "python",
   "nbconvert_exporter": "python",
   "pygments_lexer": "ipython3",
   "version": "3.9.12"
  }
 },
 "nbformat": 4,
 "nbformat_minor": 5
}
