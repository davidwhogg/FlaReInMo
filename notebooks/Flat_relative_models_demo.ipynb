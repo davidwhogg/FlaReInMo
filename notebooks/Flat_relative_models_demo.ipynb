{
 "cells": [
  {
   "cell_type": "markdown",
   "id": "30971a50",
   "metadata": {},
   "source": [
    "# Make fake flat, LFC, and science exposure"
   ]
  },
  {
   "cell_type": "code",
   "execution_count": null,
   "id": "44cd2c84",
   "metadata": {},
   "outputs": [],
   "source": [
    "import numpy as np\n",
    "import pylab as plt\n",
    "%matplotlib inline"
   ]
  },
  {
   "cell_type": "code",
   "execution_count": null,
   "id": "0276f98e",
   "metadata": {},
   "outputs": [],
   "source": [
    "# Set defaults.\n",
    "specvar = 5. # pixels ** 2\n",
    "rng = np.random.default_rng(17)\n",
    "TWOPI = 2. * np.pi\n",
    "ONEOVERTWOPI = 1. / TWOPI"
   ]
  },
  {
   "cell_type": "code",
   "execution_count": null,
   "id": "6ca12fe2",
   "metadata": {},
   "outputs": [],
   "source": [
    "# Define useful functions.\n",
    "def gaussian_2d(xxs, yys, mean, var):\n",
    "    \"\"\"\n",
    "    `xxs`   should be shape `(nx, ny)`.\n",
    "    `yys`   should be shape `(nx, ny)`.\n",
    "    `mean`  should be shape `(2, )`.\n",
    "    `var`   should be a scalar.\n",
    "    \"\"\"\n",
    "    return ONEOVERTWOPI / var \\\n",
    "           * np.exp(-0.5 / var * ((xxs - mean[0]) ** 2 + (yys - mean[1]) ** 2))\n",
    "def gaussian_1d(xxs, mean, var):\n",
    "    \"\"\"\n",
    "    `xxs`   should be shape `(nx, )`.\n",
    "    `mean`  should be a scalar.\n",
    "    `var`   should be a scalar.\n",
    "    \"\"\"\n",
    "    return np.sqrt(ONEOVERTWOPI / var) \\\n",
    "           * np.exp(-0.5 / var * (xxs - mean) ** 2)"
   ]
  },
  {
   "cell_type": "code",
   "execution_count": null,
   "id": "a121236b",
   "metadata": {},
   "outputs": [],
   "source": [
    "# Make true 1D spectrum.\n",
    "linexs = 2. + np.array([4.1, 20.2, 37.0])\n",
    "depths = 5. * np.array([0.75, 0.7, 0.1])"
   ]
  },
  {
   "cell_type": "code",
   "execution_count": null,
   "id": "326c3e60",
   "metadata": {},
   "outputs": [],
   "source": [
    "# Make a version of the true 1D spectrum for plotting purposes.\n",
    "xfine = np.arange(0., 45., 0.01)\n",
    "yfine = np.ones_like(xfine)\n",
    "for x, d in zip(linexs, depths):\n",
    "    yfine -= d * gaussian_1d(xfine, x, specvar)"
   ]
  },
  {
   "cell_type": "code",
   "execution_count": null,
   "id": "b951c75f",
   "metadata": {},
   "outputs": [],
   "source": [
    "plt.title(\"true 1D spectrum\")\n",
    "plt.plot(xfine, yfine, 'g-')\n",
    "plt.xlabel(\"x (pix)\")"
   ]
  },
  {
   "cell_type": "code",
   "execution_count": null,
   "id": "58c9d212",
   "metadata": {},
   "outputs": [],
   "source": [
    "# Define trace and the non-orthogonality of the wavelength solution.\n",
    "def trace(xs):\n",
    "    return 12.83 - 0.003 * (xs - 50.3) ** 2\n",
    "def dxdy(xs):\n",
    "    return - 0.006 * (xs - 50.3)"
   ]
  },
  {
   "cell_type": "code",
   "execution_count": null,
   "id": "c63d8e7e",
   "metadata": {},
   "outputs": [],
   "source": [
    "# Make pixel grids for a tiny image section\n",
    "xs = np.arange(43).astype(float)\n",
    "ys = np.arange(21).astype(float)\n",
    "xxs, yys = np.meshgrid(xs, ys)"
   ]
  },
  {
   "cell_type": "code",
   "execution_count": null,
   "id": "c00c68dc",
   "metadata": {},
   "outputs": [],
   "source": [
    "plt.title(\"just checking\")\n",
    "plt.plot(xs, trace(xs), \"k-\")\n",
    "plt.axis(\"equal\")\n",
    "dy = 5.\n",
    "for x in np.arange(0, len(xs), 2).astype(float):\n",
    "    y0 = trace(x)\n",
    "    plt.plot([x - dxdy(x) * dy, x + dxdy(x) * dy], [y0 - dy, y0 + dy], \"k-\")"
   ]
  },
  {
   "cell_type": "code",
   "execution_count": null,
   "id": "782f0667",
   "metadata": {},
   "outputs": [],
   "source": [
    "# Make true flat by an agonizing process.\n",
    "xspots = np.arange(-5., len(xs) + 5., 0.33)\n",
    "yspots = np.arange(-5., 5., 0.33)\n",
    "var = 1.0\n",
    "trueflat = np.zeros_like(xxs).astype(float)\n",
    "for x in xspots:\n",
    "    for y in yspots:\n",
    "        trueflat += gaussian_2d(xxs, yys, [x + dxdy(x) * y, trace(x) + y], var)"
   ]
  },
  {
   "cell_type": "code",
   "execution_count": null,
   "id": "6678e9bf",
   "metadata": {},
   "outputs": [],
   "source": [
    "# Make true LFC by a similarly agonizing process.\n",
    "lfcspots = np.arange(-4., len(xs) + 4., 4 * np.pi)\n",
    "truelfc = np.zeros_like(xxs).astype(float)\n",
    "for x in lfcspots:\n",
    "    for y in yspots:\n",
    "        truelfc += gaussian_2d(xxs, yys, [x + dxdy(x) * y, trace(x) + y], specvar)"
   ]
  },
  {
   "cell_type": "code",
   "execution_count": null,
   "id": "b86075ad",
   "metadata": {},
   "outputs": [],
   "source": [
    "# Make true science image by multiplying the flat.\n",
    "foo = np.ones_like(xxs)\n",
    "for x, d in zip(linexs, depths):\n",
    "    foo -= d * gaussian_1d(xxs - dxdy(xxs) * (yys - trace(xxs)), x, specvar)\n",
    "truesci = trueflat * foo"
   ]
  },
  {
   "cell_type": "code",
   "execution_count": null,
   "id": "c9e7b405",
   "metadata": {},
   "outputs": [],
   "source": [
    "# Make observed images by noisifying the true images.\n",
    "flat = trueflat + 0.04 * np.sqrt(trueflat) * rng.normal(size=xxs.shape)\n",
    "lfc  = truelfc  + 0.01 * np.sqrt(truelfc)  * rng.normal(size=xxs.shape)\n",
    "sci  = truesci  + 0.05 * np.sqrt(truesci)  * rng.normal(size=xxs.shape)"
   ]
  },
  {
   "cell_type": "code",
   "execution_count": null,
   "id": "451d6119",
   "metadata": {},
   "outputs": [],
   "source": [
    "imshowkwargs = {\"origin\": \"lower\", \"interpolation\": \"nearest\"}\n",
    "plt.title(\"flat\")\n",
    "plt.imshow(flat, **imshowkwargs)\n",
    "plt.plot(lfcspots, trace(lfcspots), \"ro\", alpha=0.5)\n",
    "plt.xlim(-0.5, len(xs)-0.5)\n",
    "plt.xlabel(r\"$x$ (pix)\")\n",
    "plt.ylabel(r\"$y$ (pix)\")"
   ]
  },
  {
   "cell_type": "code",
   "execution_count": null,
   "id": "bd4c7e6f",
   "metadata": {},
   "outputs": [],
   "source": [
    "plt.title(\"LFC\")\n",
    "plt.imshow(lfc, **imshowkwargs)\n",
    "plt.plot(lfcspots, trace(lfcspots), \"ro\", alpha=0.5)\n",
    "plt.xlim(-0.5, len(xs)-0.5)\n",
    "plt.xlabel(r\"$x$ (pix)\")\n",
    "plt.ylabel(r\"$y$ (pix)\")"
   ]
  },
  {
   "cell_type": "code",
   "execution_count": null,
   "id": "0bc886eb",
   "metadata": {},
   "outputs": [],
   "source": [
    "plt.title(\"science\")\n",
    "plt.imshow(sci, **imshowkwargs)\n",
    "plt.plot(lfcspots, trace(lfcspots), \"ro\", alpha=0.5)\n",
    "plt.xlim(-0.5, len(xs)-0.5)\n",
    "plt.xlabel(r\"$x$ (pix)\")\n",
    "plt.ylabel(r\"$y$ (pix)\")"
   ]
  },
  {
   "cell_type": "code",
   "execution_count": null,
   "id": "475d8b2d",
   "metadata": {},
   "outputs": [],
   "source": [
    "# Flat-relative optimal extraction is ONE LINE OF numpy.\n",
    "\n",
    "def froe(science, flat):\n",
    "    return np.sum(science * flat, axis=0) / np.sum(flat * flat, axis=0)"
   ]
  },
  {
   "cell_type": "code",
   "execution_count": null,
   "id": "4e993a2c",
   "metadata": {},
   "outputs": [],
   "source": [
    "# Run FROE to extract the spectrum.\n",
    "froe_output = froe(sci, flat)\n",
    "froe_model = flat * froe_output[None, :]"
   ]
  },
  {
   "cell_type": "code",
   "execution_count": null,
   "id": "c360ef81",
   "metadata": {},
   "outputs": [],
   "source": [
    "plt.title(\"effective FROE model\")\n",
    "plt.imshow(froe_model, **imshowkwargs)\n",
    "plt.plot(lfcspots, trace(lfcspots), \"ro\", alpha=0.5)\n",
    "plt.xlim(-0.5, len(xs)-0.5)\n",
    "plt.xlabel(r\"$x$ (pix)\")\n",
    "plt.ylabel(r\"$y$ (pix)\")"
   ]
  },
  {
   "cell_type": "code",
   "execution_count": null,
   "id": "32fa775b",
   "metadata": {},
   "outputs": [],
   "source": [
    "plt.title(\"FROE output 1D spectrum\")\n",
    "plt.plot(xfine, yfine, 'g-', label=\"true input spectrum\")\n",
    "plt.step(xs, froe_output, where=\"mid\", color=\"k\", label=\"FROE extracted spectrum\")\n",
    "#plt.plot(xs, froe_output, \"k-\", label=\"FROE extracted spectrum\")\n",
    "for x in lfcspots:\n",
    "    plt.axvline(x, color=\"red\", alpha=0.5)\n",
    "plt.xlim(-0.5, len(xs)-0.5)\n",
    "plt.ylim(-0.05, 1.05)\n",
    "plt.legend()\n",
    "plt.xlabel(r\"$x$ (pix)\")"
   ]
  },
  {
   "cell_type": "code",
   "execution_count": null,
   "id": "9b42fb87",
   "metadata": {},
   "outputs": [],
   "source": [
    "# Now, just for fun, run FROE to extract the 1D LFC.\n",
    "lfc_froe_output = froe(lfc, flat)"
   ]
  },
  {
   "cell_type": "code",
   "execution_count": null,
   "id": "2c125a3b",
   "metadata": {},
   "outputs": [],
   "source": [
    "plt.title(\"FROE output 1D LFC spectrum\")\n",
    "plt.step(xs, lfc_froe_output, where=\"mid\", color=\"k\", label=\"FROE extracted LFC spectrum\")\n",
    "for x in lfcspots:\n",
    "    plt.axvline(x, color=\"red\", alpha=0.5)\n",
    "plt.xlim(-0.5, len(xs)-0.5)\n",
    "foo = np.max(lfc_froe_output)\n",
    "plt.ylim(-0.05 * foo, 1.05 * foo)\n",
    "plt.legend()\n",
    "plt.xlabel(r\"$x$ (pix)\")"
   ]
  },
  {
   "cell_type": "code",
   "execution_count": null,
   "id": "c6b170b5",
   "metadata": {},
   "outputs": [],
   "source": [
    "from scipy.interpolate import BSpline"
   ]
  },
  {
   "cell_type": "code",
   "execution_count": null,
   "id": "f3f1ca64",
   "metadata": {},
   "outputs": [],
   "source": [
    "b = BSpline.basis_element([-2, -1, 0, 1, 2], extrapolate=False)\n",
    "k = b.k\n",
    "print(b.t[k:-k])\n",
    "np.array([ 0.,  1.,  2.,  3.,  4.])\n",
    "k"
   ]
  },
  {
   "cell_type": "code",
   "execution_count": null,
   "id": "6b9608b0",
   "metadata": {},
   "outputs": [],
   "source": [
    "xp = np.arange(-5., 5.001, 0.01)\n",
    "plt.plot(xp, b(xp), \"r-\")"
   ]
  },
  {
   "cell_type": "code",
   "execution_count": null,
   "id": "3da75f1a",
   "metadata": {},
   "outputs": [],
   "source": []
  }
 ],
 "metadata": {
  "kernelspec": {
   "display_name": "Python 3 (ipykernel)",
   "language": "python",
   "name": "python3"
  },
  "language_info": {
   "codemirror_mode": {
    "name": "ipython",
    "version": 3
   },
   "file_extension": ".py",
   "mimetype": "text/x-python",
   "name": "python",
   "nbconvert_exporter": "python",
   "pygments_lexer": "ipython3",
   "version": "3.9.12"
  }
 },
 "nbformat": 4,
 "nbformat_minor": 5
}
